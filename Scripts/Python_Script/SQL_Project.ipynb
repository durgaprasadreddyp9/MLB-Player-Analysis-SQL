{
 "cells": [
  {
   "cell_type": "code",
   "execution_count": 0,
   "metadata": {
    "application/vnd.databricks.v1+cell": {
     "cellMetadata": {
      "byteLimit": 2048000,
      "rowLimit": 10000
     },
     "inputWidgets": {},
     "nuid": "dfb16096-cb40-4190-8985-4a75954a3445",
     "showTitle": false,
     "tableResultSettingsMap": {},
     "title": ""
    }
   },
   "outputs": [],
   "source": [
    "school_details = spark.read.csv('/FileStore/tables/school_details.csv', header = True)"
   ]
  },
  {
   "cell_type": "code",
   "execution_count": 0,
   "metadata": {
    "application/vnd.databricks.v1+cell": {
     "cellMetadata": {
      "byteLimit": 2048000,
      "rowLimit": 10000
     },
     "inputWidgets": {},
     "nuid": "7ba2bce3-e62a-4e65-83b5-17ab183b8a8a",
     "showTitle": false,
     "tableResultSettingsMap": {},
     "title": ""
    }
   },
   "outputs": [],
   "source": [
    "school = spark.read.csv('/FileStore/tables/schools.csv', header = True)"
   ]
  },
  {
   "cell_type": "markdown",
   "metadata": {
    "application/vnd.databricks.v1+cell": {
     "cellMetadata": {},
     "inputWidgets": {},
     "nuid": "0cd03363-54c2-4266-8677-fd773763195d",
     "showTitle": false,
     "tableResultSettingsMap": {},
     "title": ""
    }
   },
   "source": [
    "TASK . In each decade, how many schools were there that produced players? "
   ]
  },
  {
   "cell_type": "code",
   "execution_count": 0,
   "metadata": {
    "application/vnd.databricks.v1+cell": {
     "cellMetadata": {
      "byteLimit": 2048000,
      "rowLimit": 10000
     },
     "inputWidgets": {},
     "nuid": "af5dcb3c-9056-4fb9-a950-93c9506dacb9",
     "showTitle": false,
     "tableResultSettingsMap": {},
     "title": ""
    }
   },
   "outputs": [],
   "source": [
    "from pyspark.sql.functions import *\n",
    "from pyspark.sql.functions import col, round, countDistinct"
   ]
  },
  {
   "cell_type": "code",
   "execution_count": 0,
   "metadata": {
    "application/vnd.databricks.v1+cell": {
     "cellMetadata": {
      "byteLimit": 2048000,
      "rowLimit": 10000
     },
     "inputWidgets": {},
     "nuid": "994680b3-a5fc-4026-bc6a-43ce0838aa10",
     "showTitle": false,
     "tableResultSettingsMap": {},
     "title": ""
    }
   },
   "outputs": [
    {
     "output_type": "stream",
     "name": "stdout",
     "output_type": "stream",
     "text": [
      "+------+-----------+\n|decade|num_schools|\n+------+-----------+\n|  1860|          2|\n|  1870|         14|\n|  1880|         34|\n|  1890|         89|\n|  1900|        148|\n|  1910|        178|\n|  1920|        196|\n|  1930|        162|\n|  1940|        142|\n|  1950|        176|\n|  1960|        301|\n|  1970|        427|\n|  1980|        473|\n|  1990|        494|\n|  2000|        372|\n|  2010|         57|\n+------+-----------+\n\n"
     ]
    }
   ],
   "source": [
    "df_school = (\n",
    "            school\n",
    "            .withColumn('decade', floor(col('yearID') / 10 )* 10)\n",
    "            .groupBy('decade')\n",
    "            .agg(countDistinct('schoolID').alias('num_schools'))\n",
    "            .orderBy('decade')\n",
    ")\n",
    "df_school.show()\n",
    "            "
   ]
  },
  {
   "cell_type": "markdown",
   "metadata": {
    "application/vnd.databricks.v1+cell": {
     "cellMetadata": {},
     "inputWidgets": {},
     "nuid": "fe53e7fe-a672-45d0-a8f6-add89911043d",
     "showTitle": false,
     "tableResultSettingsMap": {},
     "title": ""
    }
   },
   "source": [
    "TASK: What are the names of the top 5 schools that produced the most players?\n"
   ]
  },
  {
   "cell_type": "code",
   "execution_count": 0,
   "metadata": {
    "application/vnd.databricks.v1+cell": {
     "cellMetadata": {
      "byteLimit": 2048000,
      "rowLimit": 10000
     },
     "inputWidgets": {},
     "nuid": "6d7fedd0-edeb-4445-ac6b-77b8bb6306e9",
     "showTitle": false,
     "tableResultSettingsMap": {},
     "title": ""
    }
   },
   "outputs": [
    {
     "output_type": "stream",
     "name": "stdout",
     "output_type": "stream",
     "text": [
      "+--------------------+-----------+\n|           name_full|num_players|\n+--------------------+-----------+\n|University of Tex...|        107|\n|University of Sou...|        105|\n|Arizona State Uni...|        101|\n| Stanford University|         86|\n|University of Mic...|         76|\n+--------------------+-----------+\n\n"
     ]
    }
   ],
   "source": [
    "df_school1 = ( school_details\n",
    "               .join(school, on = 'schoolID', how = 'inner')\n",
    "               .groupBy('name_full')\n",
    "               .agg(countDistinct('playerID').alias('num_players'))\n",
    "               .orderBy(col('num_players').desc())\n",
    "               .limit(5)\n",
    ")\n",
    "df_school1.show()           "
   ]
  },
  {
   "cell_type": "markdown",
   "metadata": {
    "application/vnd.databricks.v1+cell": {
     "cellMetadata": {},
     "inputWidgets": {},
     "nuid": "8a740d6b-5498-4ebd-818c-284530368774",
     "showTitle": false,
     "tableResultSettingsMap": {},
     "title": ""
    }
   },
   "source": [
    "TASK : For each decade, what were the names of the top 3 schools that produced the most players?\n"
   ]
  },
  {
   "cell_type": "code",
   "execution_count": 0,
   "metadata": {
    "application/vnd.databricks.v1+cell": {
     "cellMetadata": {
      "byteLimit": 2048000,
      "rowLimit": 10000
     },
     "inputWidgets": {},
     "nuid": "8fda530f-2733-4632-8d8f-bfc396ad1e76",
     "showTitle": false,
     "tableResultSettingsMap": {},
     "title": ""
    }
   },
   "outputs": [],
   "source": [
    "\n",
    "from pyspark.sql.window import Window\n",
    "from pyspark.sql.functions import row_number\n"
   ]
  },
  {
   "cell_type": "code",
   "execution_count": 0,
   "metadata": {
    "application/vnd.databricks.v1+cell": {
     "cellMetadata": {
      "byteLimit": 2048000,
      "rowLimit": 10000
     },
     "inputWidgets": {},
     "nuid": "6ccdfd02-9156-4021-8b81-6cb3f8daf0b0",
     "showTitle": false,
     "tableResultSettingsMap": {},
     "title": ""
    }
   },
   "outputs": [
    {
     "output_type": "stream",
     "name": "stdout",
     "output_type": "stream",
     "text": [
      "+------+--------------------+-----------+---+\n|decade|           name_full|num_players| rn|\n+------+--------------------+-----------+---+\n|  2010|University of Flo...|          5|  1|\n|  2010|University of Tex...|          4|  2|\n|  2010|University of Sou...|          3|  3|\n|  2000|California State ...|         23|  1|\n|  2000|Arizona State Uni...|         23|  2|\n|  2000| Stanford University|         22|  3|\n|  1990| Stanford University|         25|  1|\n|  1990|University of Sou...|         23|  2|\n|  1990|Louisiana State U...|         22|  3|\n|  1980|University of Ari...|         24|  1|\n|  1980|Arizona State Uni...|         23|  2|\n|  1980|University of Cal...|         22|  3|\n|  1970|Arizona State Uni...|         32|  1|\n|  1970|University of Sou...|         24|  2|\n|  1970|University of Tex...|         20|  3|\n|  1960|Arizona State Uni...|         18|  1|\n|  1960|University of Sou...|         17|  2|\n|  1960|University of Mic...|         14|  3|\n|  1950|University of Sou...|         12|  1|\n|  1950|Michigan State Un...|          9|  2|\n+------+--------------------+-----------+---+\nonly showing top 20 rows\n\n"
     ]
    }
   ],
   "source": [
    "df1 = ( school\n",
    "       .join(school_details, on = 'schoolID', how ='inner')\n",
    "       .withColumn('decade', floor(col('yearID')/10)*10)\n",
    "       .groupBy('decade','name_full')\n",
    "       .agg(countDistinct('playerID').alias('num_players')) \n",
    ")\n",
    "\n",
    "window_spec = Window.partitionBy('decade').orderBy(col('num_players').desc())\n",
    "df2 = (df1\n",
    "       .withColumn('rn', row_number().over(window_spec))\n",
    ")\n",
    "\n",
    "df3 = (df2\n",
    "       .filter(col('rn').isin(1,2,3))\n",
    "       .orderBy(col('decade').desc(), col('rn'))\n",
    ")\n",
    "\n",
    "df3.show()"
   ]
  },
  {
   "cell_type": "markdown",
   "metadata": {
    "application/vnd.databricks.v1+cell": {
     "cellMetadata": {},
     "inputWidgets": {},
     "nuid": "9155919d-dacf-44ad-a100-046703879962",
     "showTitle": false,
     "tableResultSettingsMap": {},
     "title": ""
    }
   },
   "source": [
    "TASK: Return the top 20% of teams in terms of average annual spending (Salary Analysis )"
   ]
  },
  {
   "cell_type": "code",
   "execution_count": 0,
   "metadata": {
    "application/vnd.databricks.v1+cell": {
     "cellMetadata": {
      "byteLimit": 2048000,
      "rowLimit": 10000
     },
     "inputWidgets": {},
     "nuid": "702065d1-f9fe-4feb-81b6-09e9a9da5698",
     "showTitle": false,
     "tableResultSettingsMap": {},
     "title": ""
    }
   },
   "outputs": [],
   "source": [
    "salary = spark.read.csv('/FileStore/tables/salaries.csv', header = True)"
   ]
  },
  {
   "cell_type": "code",
   "execution_count": 0,
   "metadata": {
    "application/vnd.databricks.v1+cell": {
     "cellMetadata": {
      "byteLimit": 2048000,
      "rowLimit": 10000
     },
     "inputWidgets": {},
     "nuid": "1ce5e5be-37ef-4cb8-9d7a-0352bedf9957",
     "showTitle": false,
     "tableResultSettingsMap": {},
     "title": ""
    }
   },
   "outputs": [],
   "source": [
    "from pyspark.sql.functions import sum"
   ]
  },
  {
   "cell_type": "code",
   "execution_count": 0,
   "metadata": {
    "application/vnd.databricks.v1+cell": {
     "cellMetadata": {
      "byteLimit": 2048000,
      "rowLimit": 10000
     },
     "inputWidgets": {},
     "nuid": "51b4c6de-51ed-48f0-adc6-c088d6aff008",
     "showTitle": false,
     "tableResultSettingsMap": {},
     "title": ""
    }
   },
   "outputs": [
    {
     "output_type": "stream",
     "name": "stdout",
     "output_type": "stream",
     "text": [
      "+------+-----------------+\n|teamID|spending_millions|\n+------+-----------------+\n|   SFG|            143.5|\n|   LAA|            118.5|\n|   NYA|            109.4|\n|   BOS|             81.1|\n|   LAN|             74.6|\n|   WAS|             71.5|\n|   ARI|             71.2|\n|   PHI|             66.1|\n+------+-----------------+\n\n"
     ]
    }
   ],
   "source": [
    "df1 =( salary\n",
    "       .groupBy('yearID','teamID')\n",
    "       .agg(sum('salary').alias('total_amount'))\n",
    ") \n",
    "window_spec = Window.orderBy(col('avg_spend').desc())\n",
    "\n",
    "df2 = ( df1\n",
    "        .groupBy('teamID')\n",
    "        .agg(avg('total_amount').alias('avg_spend'))\n",
    "        .withColumn('NT',ntile(5).over(window_spec))\n",
    "        \n",
    ")\n",
    "\n",
    "df3 = (df2\n",
    "       .filter(col('NT')==1)\n",
    "       .select('teamID',round(col('avg_spend') / 1000000,1).alias('spending_millions'))\n",
    ")\n",
    "df3.show()"
   ]
  },
  {
   "cell_type": "markdown",
   "metadata": {
    "application/vnd.databricks.v1+cell": {
     "cellMetadata": {},
     "inputWidgets": {},
     "nuid": "2865f924-98cc-4315-9c9e-5fafbb1403b9",
     "showTitle": false,
     "tableResultSettingsMap": {},
     "title": ""
    }
   },
   "source": [
    "TASK : For each team, show the cumulative sum of spending over the years"
   ]
  },
  {
   "cell_type": "code",
   "execution_count": 0,
   "metadata": {
    "application/vnd.databricks.v1+cell": {
     "cellMetadata": {
      "byteLimit": 2048000,
      "rowLimit": 10000
     },
     "inputWidgets": {},
     "nuid": "0f50dad8-5670-4b14-920f-d8a75e831cfa",
     "showTitle": false,
     "tableResultSettingsMap": {},
     "title": ""
    }
   },
   "outputs": [
    {
     "output_type": "stream",
     "name": "stdout",
     "output_type": "stream",
     "text": [
      "+------+------+------------+---------------+\n|teamID|yearID|total_salary|cummulative_sum|\n+------+------+------------+---------------+\n|   ANA|  1997| 3.1135472E7|           31.1|\n|   ANA|  1998|    4.1281E7|           72.4|\n|   ANA|  1999| 5.5388166E7|          127.8|\n|   ANA|  2000| 5.1464167E7|          179.3|\n|   ANA|  2001| 4.7535167E7|          226.8|\n|   ANA|  2002| 6.1721667E7|          288.5|\n|   ANA|  2003| 7.9031667E7|          367.6|\n|   ANA|  2004|1.00534667E8|          468.1|\n|   ARI|  1998|    3.2347E7|           32.3|\n|   ARI|  1999| 6.8703999E7|          101.1|\n|   ARI|  2000| 8.1027833E7|          182.1|\n|   ARI|  2001| 8.5082999E7|          267.2|\n|   ARI|  2002|1.02819999E8|          370.0|\n|   ARI|  2003|    8.0657E7|          450.6|\n|   ARI|  2004|  6.978075E7|          520.4|\n|   ARI|  2005| 6.2329166E7|          582.7|\n|   ARI|  2006| 5.9684226E7|          642.4|\n|   ARI|  2007| 5.2067546E7|          694.5|\n|   ARI|  2008| 6.6202712E7|          760.7|\n|   ARI|  2009| 7.3115666E7|          833.8|\n+------+------+------------+---------------+\nonly showing top 20 rows\n\n"
     ]
    }
   ],
   "source": [
    "df = (salary\n",
    "      .groupBy('teamID','yearID')\n",
    "      .agg(sum('salary').alias('total_salary'))\n",
    "    \n",
    ")\n",
    "\n",
    "window_spec = Window.partitionBy(col('teamID')).orderBy(col('yearID'))\n",
    "df1 = (df\n",
    "       .withColumn('cummulative_sum', round(sum('total_salary').over(window_spec) / 1000000,1))\n",
    ")\n",
    "df1.show()"
   ]
  },
  {
   "cell_type": "markdown",
   "metadata": {
    "application/vnd.databricks.v1+cell": {
     "cellMetadata": {},
     "inputWidgets": {},
     "nuid": "bb9aadd7-5024-49fc-ac95-274329b02d94",
     "showTitle": false,
     "tableResultSettingsMap": {},
     "title": ""
    }
   },
   "source": [
    "TASK : Return the first year that each team's cumulative spending surpassed 1 billion"
   ]
  },
  {
   "cell_type": "code",
   "execution_count": 0,
   "metadata": {
    "application/vnd.databricks.v1+cell": {
     "cellMetadata": {
      "byteLimit": 2048000,
      "rowLimit": 10000
     },
     "inputWidgets": {},
     "nuid": "37bf1a4f-dcb1-4e2b-9655-cebd840901e8",
     "showTitle": false,
     "tableResultSettingsMap": {},
     "title": ""
    }
   },
   "outputs": [],
   "source": [
    "from pyspark.sql.functions import sum as Fsum"
   ]
  },
  {
   "cell_type": "code",
   "execution_count": 0,
   "metadata": {
    "application/vnd.databricks.v1+cell": {
     "cellMetadata": {
      "byteLimit": 2048000,
      "rowLimit": 10000
     },
     "inputWidgets": {},
     "nuid": "9f6f83d2-ac62-48a9-b619-5445e18ba18b",
     "showTitle": false,
     "tableResultSettingsMap": {},
     "title": ""
    }
   },
   "outputs": [
    {
     "output_type": "stream",
     "name": "stdout",
     "output_type": "stream",
     "text": [
      "+------+------+---------------+\n|teamID|yearID|cummulative_sum|\n+------+------+---------------+\n|   MIA|  2012|         1180.8|\n|   SFG|  2014|         1435.1|\n+------+------+---------------+\n\n"
     ]
    }
   ],
   "source": [
    "df = (salary\n",
    "      .groupBy('yearID','teamID')\n",
    "      .agg(Fsum('salary').alias('total_spend'))\n",
    ")\n",
    "\n",
    "window_spec = Window.partitionBy('teamID').orderBy('yearID')\n",
    "df1 = (df\n",
    "       .withColumn('cummulative_sum', round(sum('total_spend').over(window_spec) / 100000,1))\n",
    ")\n",
    "\n",
    "window_spec1 = Window.partitionBy('teamID').orderBy('cummulative_sum','yearID')\n",
    "df2 = (df1\n",
    "       .withColumn('rn', row_number().over(window_spec1))\n",
    "       .filter(col('cummulative_sum') > 1000)\n",
    ")\n",
    "\n",
    "df3 = (df2\n",
    "       .filter(col('rn')==1)\n",
    "       .select('teamID','yearID','cummulative_sum')\n",
    "       \n",
    ")\n",
    "\n",
    "df3.show()"
   ]
  },
  {
   "cell_type": "markdown",
   "metadata": {
    "application/vnd.databricks.v1+cell": {
     "cellMetadata": {},
     "inputWidgets": {},
     "nuid": "2232aee7-8f54-45ba-8f71-190af8913365",
     "showTitle": false,
     "tableResultSettingsMap": {},
     "title": ""
    }
   },
   "source": [
    "Player Analysis \n",
    "\n",
    " TASK : For each player, calculate their age at their first (debut) game,\n",
    "  their last game, and their career length (all in years). Sort from longest career to shortest career.\n"
   ]
  },
  {
   "cell_type": "code",
   "execution_count": 0,
   "metadata": {
    "application/vnd.databricks.v1+cell": {
     "cellMetadata": {
      "byteLimit": 2048000,
      "rowLimit": 10000
     },
     "collapsed": true,
     "inputWidgets": {},
     "nuid": "f59a7e4d-199e-4fea-8e95-9874d8e4ccf7",
     "showTitle": false,
     "tableResultSettingsMap": {},
     "title": ""
    }
   },
   "outputs": [],
   "source": [
    "player = spark.read.csv('/FileStore/tables/players.csv', header = True)"
   ]
  },
  {
   "cell_type": "code",
   "execution_count": 0,
   "metadata": {
    "application/vnd.databricks.v1+cell": {
     "cellMetadata": {
      "byteLimit": 2048000,
      "rowLimit": 10000
     },
     "inputWidgets": {},
     "nuid": "cb02e303-8e5a-48ae-a523-93191e7ef629",
     "showTitle": false,
     "tableResultSettingsMap": {},
     "title": ""
    }
   },
   "outputs": [],
   "source": [
    "from pyspark.sql.functions import year, col, expr"
   ]
  },
  {
   "cell_type": "code",
   "execution_count": 0,
   "metadata": {
    "application/vnd.databricks.v1+cell": {
     "cellMetadata": {
      "byteLimit": 2048000,
      "rowLimit": 10000
     },
     "inputWidgets": {},
     "nuid": "d434eec0-4bca-4eff-a85b-2c79b0c22423",
     "showTitle": false,
     "tableResultSettingsMap": {},
     "title": ""
    }
   },
   "outputs": [
    {
     "output_type": "stream",
     "name": "stdout",
     "output_type": "stream",
     "text": [
      "+---------+----------+---------+-------------+\n|nameFirst|first_game|last_game|career_length|\n+---------+----------+---------+-------------+\n|      Cap|      19.0|     45.0|           26|\n|     Paul|      17.0|     36.0|           19|\n|     Jack|      20.0|     39.0|           19|\n|      Joe|      18.0|     37.0|           19|\n|   Deacon|      24.0|     43.0|           19|\n|      Joe|      18.0|     36.0|           18|\n|    Candy|      23.0|     41.0|           18|\n|      Pop|      19.0|     37.0|           18|\n|    Roger|      23.0|     40.0|           17|\n|     Buck|      21.0|     38.0|           17|\n|      Pud|      19.0|     36.0|           17|\n|      Bid|      23.0|     40.0|           17|\n|     Ezra|      22.0|     39.0|           17|\n|      Lip|      26.0|     42.0|           16|\n|    Bobby|      20.0|     36.0|           16|\n|      Jim|      17.0|     33.0|           16|\n|   Orator|      23.0|     39.0|           16|\n|      Tom|      22.0|     38.0|           16|\n|     Jack|      22.0|     38.0|           16|\n|    Monte|      18.0|     34.0|           16|\n+---------+----------+---------+-------------+\nonly showing top 20 rows\n\n"
     ]
    }
   ],
   "source": [
    "df = (player\n",
    "      .withColumn('birthYear', col('birthYear'))\n",
    "      .withColumn('debut', col('debut').cast('date'))\n",
    "      .withColumn('finalGame',col('finalGame').cast('date'))\n",
    ")\n",
    "\n",
    "df1 = (df\n",
    "       .withColumn('first_game', year(col('debut'))- col('birthYear'))\n",
    "       .withColumn('last_game',year(col('finalGame'))- col('birthYear'))\n",
    "       .withColumn('career_length', year(col('finalGame')) - year(col('debut')))\n",
    ")\n",
    "\n",
    "df2 = (df1\n",
    "       .select('nameFirst', 'first_game', 'last_game', 'career_length')\n",
    "       .orderBy(col(\"career_length\").desc())\n",
    "       )\n",
    "\n",
    "df2.show()"
   ]
  },
  {
   "cell_type": "markdown",
   "metadata": {
    "application/vnd.databricks.v1+cell": {
     "cellMetadata": {},
     "inputWidgets": {},
     "nuid": "a46c2c72-f9b7-41f0-9e47-e29345f349cf",
     "showTitle": false,
     "tableResultSettingsMap": {},
     "title": ""
    }
   },
   "source": [
    "TASK : How have average height and weight at debut game changed over the years, and what's the decade-over-decade difference?"
   ]
  },
  {
   "cell_type": "code",
   "execution_count": 0,
   "metadata": {
    "application/vnd.databricks.v1+cell": {
     "cellMetadata": {
      "byteLimit": 2048000,
      "rowLimit": 10000
     },
     "inputWidgets": {},
     "nuid": "a4de86f1-e8a6-40ef-a5be-12884941a987",
     "showTitle": false,
     "tableResultSettingsMap": {},
     "title": ""
    }
   },
   "outputs": [
    {
     "output_type": "stream",
     "name": "stdout",
     "output_type": "stream",
     "text": [
      "+------+-----------------+------------------+------------------+------------------+\n|decade|       avg_height|        avg_weight|       height_diff|       weight_diff|\n+------+-----------------+------------------+------------------+------------------+\n|1870.0|68.54304635761589|            159.16|-3.953335607873626|-28.11291356184799|\n|1880.0|69.41340782122904|168.50912408759123|0.8703614636131505| 9.349124087591235|\n|1890.0|69.82142857142857|169.41788617886178|0.4080207501995261|0.9087620912705461|\n|1900.0|70.07817589576547|171.20666666666668|0.2567473243368994|1.7887804878048996|\n+------+-----------------+------------------+------------------+------------------+\n\n"
     ]
    }
   ],
   "source": [
    "df = (player\n",
    "      .withColumn('debut_year', year(col('debut')))\n",
    "      .withColumn('decade', round(col('debut_year') / 10) * 10)\n",
    "\n",
    ")\n",
    "\n",
    "df1 = (df\n",
    "       .groupBy('decade')\n",
    "       .agg( avg('height').alias('avg_height'), avg('weight').alias('avg_weight'))\n",
    "\n",
    ")\n",
    "\n",
    "window_spec = Window.orderBy('decade')\n",
    "df2 = (df1\n",
    "       .withColumn('height_diff',col('avg_height') - lag('avg_height').over(window_spec))\n",
    "       .withColumn('weight_diff', col('avg_weight') - lag('avg_weight').over(window_spec))\n",
    "       .filter(col('decade').isNotNull())\n",
    ")\n",
    "\n",
    "df2.show()"
   ]
  },
  {
   "cell_type": "markdown",
   "metadata": {
    "application/vnd.databricks.v1+cell": {
     "cellMetadata": {},
     "inputWidgets": {},
     "nuid": "90d9c21b-e8bc-438a-a11b-6ef2fe198109",
     "showTitle": false,
     "tableResultSettingsMap": {},
     "title": ""
    }
   },
   "source": [
    "TASK : Create a summary table that shows for each team, what percent of players bat right, left and both."
   ]
  },
  {
   "cell_type": "code",
   "execution_count": 0,
   "metadata": {
    "application/vnd.databricks.v1+cell": {
     "cellMetadata": {
      "byteLimit": 2048000,
      "rowLimit": 10000
     },
     "inputWidgets": {},
     "nuid": "b8eb70ef-7798-4000-82e0-f39fd5279bd3",
     "showTitle": false,
     "tableResultSettingsMap": {},
     "title": ""
    }
   },
   "outputs": [
    {
     "output_type": "stream",
     "name": "stdout",
     "output_type": "stream",
     "text": [
      "+------+----------+---------+---------+\n|teamID|bats_right|bats_left|bats_both|\n+------+----------+---------+---------+\n|   NYM|      66.7|     29.2|      4.2|\n|   TBA|      59.8|     31.0|      9.2|\n|   OAK|      62.7|     27.5|      9.9|\n|   NYA|      58.8|     30.7|     10.5|\n|   DET|      60.8|     28.6|     10.6|\n|   FLO|      66.3|     24.3|      9.4|\n|   ANA|      61.1|     31.6|      7.3|\n|   ML4|      59.6|     29.4|     11.0|\n|   SFN|      61.1|     27.5|     11.3|\n|   SLN|      61.9|     26.5|     11.6|\n|   BAL|      61.8|     29.6|      8.6|\n|   BOS|      61.9|     29.3|      8.6|\n|   TOR|      64.0|     26.6|      9.4|\n|   SFG|      55.6|     25.9|     18.5|\n|   ARI|      61.6|     30.4|      7.9|\n|   LAA|      68.2|     16.6|     15.2|\n|   SEA|      61.7|     28.9|      9.4|\n|   LAN|      62.9|     27.8|      9.2|\n|   CIN|      62.6|     29.4|      8.0|\n|   CLE|      59.6|     29.7|     10.8|\n+------+----------+---------+---------+\nonly showing top 20 rows\n\n"
     ]
    }
   ],
   "source": [
    "from pyspark.sql.functions import col, when, sum, count, round\n",
    "\n",
    "df = (salary\n",
    "      .join(player, 'playerID', 'left')\n",
    ")\n",
    "\n",
    "df1 = (df\n",
    "       .groupBy('teamID')\n",
    "       .agg(\n",
    "           round((sum(when(col('bats') == 'R', 1).otherwise(0)) / count('playerID')) * 100, 1).alias('bats_right'),\n",
    "           round((sum(when(col('bats') == 'L', 1).otherwise(0)) / count('playerID')) * 100, 1).alias('bats_left'),\n",
    "           round((sum(when(col('bats') == 'B', 1).otherwise(0)) / count('playerID')) * 100, 1).alias('bats_both')\n",
    "       )\n",
    ")\n",
    "df1.show()"
   ]
  }
 ],
 "metadata": {
  "application/vnd.databricks.v1+notebook": {
   "computePreferences": null,
   "dashboards": [],
   "environmentMetadata": {
    "base_environment": "",
    "client": "1"
   },
   "language": "python",
   "notebookMetadata": {
    "pythonIndentUnit": 4
   },
   "notebookName": "SQL_Project",
   "widgets": {}
  }
 },
 "nbformat": 4,
 "nbformat_minor": 0
}
